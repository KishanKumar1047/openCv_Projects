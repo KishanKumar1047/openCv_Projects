{
 "cells": [
  {
   "cell_type": "code",
   "execution_count": 1,
   "id": "e37563c1",
   "metadata": {},
   "outputs": [
    {
     "name": "stdout",
     "output_type": "stream",
     "text": [
      "Requirement already satisfied: opencv-python in c:\\users\\arjun\\anaconda3\\lib\\site-packages (4.12.0.88)\n",
      "Collecting numpy<2.3.0,>=2 (from opencv-python)\n",
      "  Downloading numpy-2.2.6-cp312-cp312-win_amd64.whl.metadata (60 kB)\n",
      "Downloading numpy-2.2.6-cp312-cp312-win_amd64.whl (12.6 MB)\n",
      "   ---------------------------------------- 0.0/12.6 MB ? eta -:--:--\n",
      "   - -------------------------------------- 0.5/12.6 MB 2.4 MB/s eta 0:00:06\n",
      "   ---- ----------------------------------- 1.6/12.6 MB 4.0 MB/s eta 0:00:03\n",
      "   -------- ------------------------------- 2.6/12.6 MB 4.7 MB/s eta 0:00:03\n",
      "   --------- ------------------------------ 3.1/12.6 MB 4.6 MB/s eta 0:00:03\n",
      "   -------------- ------------------------- 4.7/12.6 MB 4.7 MB/s eta 0:00:02\n",
      "   ------------------- -------------------- 6.0/12.6 MB 5.1 MB/s eta 0:00:02\n",
      "   --------------------- ------------------ 6.8/12.6 MB 5.1 MB/s eta 0:00:02\n",
      "   ------------------------ --------------- 7.6/12.6 MB 4.7 MB/s eta 0:00:02\n",
      "   --------------------------- ------------ 8.7/12.6 MB 4.8 MB/s eta 0:00:01\n",
      "   ----------------------------- ---------- 9.4/12.6 MB 4.6 MB/s eta 0:00:01\n",
      "   ------------------------------- -------- 10.0/12.6 MB 4.4 MB/s eta 0:00:01\n",
      "   --------------------------------- ------ 10.5/12.6 MB 4.2 MB/s eta 0:00:01\n",
      "   ------------------------------------- -- 11.8/12.6 MB 4.4 MB/s eta 0:00:01\n",
      "   ---------------------------------------- 12.6/12.6 MB 4.4 MB/s eta 0:00:00\n",
      "Installing collected packages: numpy\n",
      "  Attempting uninstall: numpy\n",
      "    Found existing installation: numpy 1.26.4\n",
      "    Uninstalling numpy-1.26.4:\n",
      "      Successfully uninstalled numpy-1.26.4\n",
      "Successfully installed numpy-2.2.6\n"
     ]
    },
    {
     "name": "stderr",
     "output_type": "stream",
     "text": [
      "ERROR: pip's dependency resolver does not currently take into account all the packages that are installed. This behaviour is the source of the following dependency conflicts.\n",
      "contourpy 1.2.0 requires numpy<2.0,>=1.20, but you have numpy 2.2.6 which is incompatible.\n",
      "gensim 4.3.3 requires numpy<2.0,>=1.18.5, but you have numpy 2.2.6 which is incompatible.\n",
      "numba 0.60.0 requires numpy<2.1,>=1.22, but you have numpy 2.2.6 which is incompatible.\n",
      "tensorflow 2.19.0 requires numpy<2.2.0,>=1.26.0, but you have numpy 2.2.6 which is incompatible.\n"
     ]
    }
   ],
   "source": [
    "!pip install opencv-python\n"
   ]
  },
  {
   "cell_type": "code",
   "execution_count": null,
   "id": "8b012a2b",
   "metadata": {},
   "outputs": [],
   "source": [
    "import cv2\n",
    "img = cv2.imread(\"profile.jpg\")\n",
    "if img is None:\n",
    "    print(\"Image not found\")\n",
    "    exit()\n",
    "\n",
    "# Prep grayscale & blur\n",
    "g = cv2.cvtColor(img, cv2.COLOR_BGR2GRAY)\n",
    "g = cv2.medianBlur(g, 5)\n",
    "\n",
    "# Edges\n",
    "e = cv2.adaptiveThreshold(g, 255, cv2.ADAPTIVE_THRESH_MEAN_C,\n",
    "                          cv2.THRESH_BINARY, 9, 9)\n",
    "\n",
    "# Smooth color\n",
    "c = cv2.bilateralFilter(img, 9, 250, 250)\n",
    "\n",
    "# Combine\n",
    "cartoon = cv2.bitwise_and(c, c, mask=e)\n",
    "\n",
    "cv2.imshow(\"Cartoon\", cartoon)\n",
    "cv2.imwrite(\"cartoon_output.jpg\", cartoon)\n",
    "cv2.waitKey(0)\n",
    "cv2.destroyAllWindows()"
   ]
  }
 ],
 "metadata": {
  "kernelspec": {
   "display_name": "base",
   "language": "python",
   "name": "python3"
  },
  "language_info": {
   "codemirror_mode": {
    "name": "ipython",
    "version": 3
   },
   "file_extension": ".py",
   "mimetype": "text/x-python",
   "name": "python",
   "nbconvert_exporter": "python",
   "pygments_lexer": "ipython3",
   "version": "3.12.7"
  }
 },
 "nbformat": 4,
 "nbformat_minor": 5
}
